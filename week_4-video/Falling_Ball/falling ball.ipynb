{
 "cells": [
  {
   "cell_type": "markdown",
   "id": "74bc979a-9907-4546-8c19-ba6e6ce0cf52",
   "metadata": {},
   "source": [
    "# Falling Ball"
   ]
  },
  {
   "cell_type": "markdown",
   "id": "f3eef18f-c426-42a7-a7ea-5faa375b5775",
   "metadata": {},
   "source": [
    "## Import packages"
   ]
  },
  {
   "cell_type": "code",
   "execution_count": 1,
   "id": "40c2098c-85ae-4cc0-9c4e-8a25690bc8d0",
   "metadata": {},
   "outputs": [],
   "source": [
    "import cv2\n",
    "import numpy as np\n",
    "import math"
   ]
  },
  {
   "cell_type": "markdown",
   "id": "cf4b37b7-189d-4d1e-b115-abb545721aa3",
   "metadata": {},
   "source": [
    "## Load background and ball images"
   ]
  },
  {
   "cell_type": "code",
   "execution_count": 2,
   "id": "d3deea85-ee5b-47b5-b0e3-4f0a906a65d0",
   "metadata": {},
   "outputs": [],
   "source": [
    "back_img = cv2.imread('./imgs/high-contrast.tif')\n",
    "ball_img = cv2.imread('./imgs/basketball.png')"
   ]
  },
  {
   "cell_type": "markdown",
   "id": "8b603c78-3760-4003-9598-1848bcdf30fe",
   "metadata": {},
   "source": [
    "## Initial Parameters"
   ]
  },
  {
   "cell_type": "code",
   "execution_count": 3,
   "id": "c567a3be-bbf6-4ef1-8f9d-14a43cd8b8aa",
   "metadata": {},
   "outputs": [],
   "source": [
    "fps = 30\n",
    "#Time interval between two frames\n",
    "t = 1000 // fps\n",
    "# Initial velocity along the x and y axes\n",
    "initial_velocity = np.array([5, 10], dtype=float)  # Initial velocity (x, y)\n",
    "gravity = 1\n",
    "bounce_value = 0.8\n",
    "ball_height, ball_width = 30, 30"
   ]
  },
  {
   "cell_type": "markdown",
   "id": "efbfeb1d-88bb-42cc-955f-a7ccbf6577c2",
   "metadata": {},
   "source": [
    "## Normalize Images"
   ]
  },
  {
   "cell_type": "code",
   "execution_count": 4,
   "id": "b27c1aec-1117-4bfd-b21e-b58be3808fd6",
   "metadata": {},
   "outputs": [],
   "source": [
    "back_img = cv2.normalize(back_img, None, alpha=0, beta=1, norm_type=cv2.NORM_MINMAX, dtype=cv2.CV_32F)\n",
    "ball_img = cv2.normalize(ball_img, None, alpha=0, beta=1, norm_type=cv2.NORM_MINMAX, dtype=cv2.CV_32F)"
   ]
  },
  {
   "cell_type": "markdown",
   "id": "74fb468e-9675-4850-8f91-8f0fa93e8e2c",
   "metadata": {},
   "source": [
    "## Resize ball image \n",
    "**Resize ball image base on ball_height and ball_width parameters**"
   ]
  },
  {
   "cell_type": "code",
   "execution_count": 5,
   "id": "e4e62ecb-d35e-46be-9411-2f2c97748565",
   "metadata": {},
   "outputs": [],
   "source": [
    "ball_img = cv2.resize(ball_img, None, fx=ball_width / ball_img.shape[1], fy=ball_height / ball_img.shape[0],\n",
    "                      interpolation=cv2.INTER_AREA)"
   ]
  },
  {
   "cell_type": "markdown",
   "id": "2682c009-84cc-46cd-a891-ee00f16d0e1e",
   "metadata": {},
   "source": [
    "# Make masks\n",
    "**In order to create a mask and create a transparent ball correctly, the background of the ball image must be white.** \\\n",
    "**In this example, the alpha channel is not used.**"
   ]
  },
  {
   "cell_type": "code",
   "execution_count": 6,
   "id": "b0960ecd-6565-427c-9bf5-447eff9640a5",
   "metadata": {},
   "outputs": [],
   "source": [
    "back_mask = (ball_img[..., 0] > 0.8) & (ball_img[..., 1] > 0.8) & (ball_img[..., 1] > 0.8)\n",
    "back_mask = np.array(back_mask, np.float32)\n",
    "back_mask = cv2.cvtColor(back_mask, cv2.COLOR_GRAY2BGR)\n",
    "img_mask = 1 - back_mask"
   ]
  },
  {
   "cell_type": "markdown",
   "id": "51cdf35f-de2a-4cf2-8a2b-bf32c8cb5dd0",
   "metadata": {},
   "source": [
    "## Initialization of computational parameters"
   ]
  },
  {
   "cell_type": "code",
   "execution_count": 7,
   "id": "99fc8d39-f906-446a-a41f-32a611dcf74a",
   "metadata": {},
   "outputs": [],
   "source": [
    "ball_radius = ball_height // 2\n",
    "width, height = back_img.shape[1], back_img.shape[0]\n",
    "initial_position = (width // 2, 0)\n",
    "rim_height = height - ball_radius * 2  # Height of the rim"
   ]
  },
  {
   "cell_type": "markdown",
   "id": "ee936262-7d42-4d0d-81c9-f03fc110073e",
   "metadata": {},
   "source": [
    "# Start of simulate ball motion"
   ]
  },
  {
   "cell_type": "code",
   "execution_count": 8,
   "id": "a5469c58-0ddb-41ac-b7ed-efdb94d5fa46",
   "metadata": {},
   "outputs": [],
   "source": [
    "position = np.array(initial_position, dtype=float)\n",
    "velocity = initial_velocity.copy()\n",
    "\n",
    "lastvelocity = 0\n",
    "while 0 <= position[0] < width and 0 <= position[1] < height and math.trunc(lastvelocity * 10000000) != math.trunc(\n",
    "        velocity[1] * 10000000):\n",
    "    # Update position and velocity\n",
    "    if position[1] != 0:\n",
    "        back_img[int(position[1]):int(position[1]) + ball_img.shape[0],\n",
    "        int(position[0]):int(position[0]) + ball_img.shape[1]] = back\n",
    "\n",
    "    lastvelocity = velocity[1]\n",
    "    velocity[1] += gravity\n",
    "    position += velocity\n",
    "\n",
    "    # Bounce off the rim\n",
    "    if position[1] >= rim_height:\n",
    "        position[1] = rim_height\n",
    "        velocity[1] *= -bounce_value  # Reverse vertical velocity with some damping\n",
    "\n",
    "    # Bounce off left and right edges\n",
    "    if position[0] <= 0 or position[0] >= width - ball_radius * 2:\n",
    "        velocity[0] *= -1  # Reverse horizontal velocity\n",
    "\n",
    "    # Copy background of ball\n",
    "    back = np.copy(back_img[int(position[1]):int(position[1]) + ball_img.shape[0],\n",
    "                   int(position[0]):int(position[0]) + ball_img.shape[1]])\n",
    "    # Rotate ball\n",
    "    ball_img = image = cv2.rotate(ball_img, cv2.ROTATE_90_CLOCKWISE)\n",
    "    # Draw the ball with transparency\n",
    "    back_img[int(position[1]):int(position[1]) + ball_img.shape[0],\n",
    "    int(position[0]):int(position[0]) + ball_img.shape[1]] = ball_img * img_mask + back * back_mask\n",
    "\n",
    "    # Display the frame\n",
    "    cv2.imshow(\"Falling Ball\", back_img)\n",
    "    key = cv2.waitKey(t)\n",
    "    # Exit by pressing the Esc or q key\n",
    "    if key == 27 or key == ord(\"q\"):\n",
    "        break\n",
    "cv2.destroyAllWindows()        "
   ]
  }
 ],
 "metadata": {
  "kernelspec": {
   "display_name": "jupyterenv",
   "language": "python",
   "name": "jupyterenv"
  },
  "language_info": {
   "codemirror_mode": {
    "name": "ipython",
    "version": 3
   },
   "file_extension": ".py",
   "mimetype": "text/x-python",
   "name": "python",
   "nbconvert_exporter": "python",
   "pygments_lexer": "ipython3",
   "version": "3.11.2"
  }
 },
 "nbformat": 4,
 "nbformat_minor": 5
}
